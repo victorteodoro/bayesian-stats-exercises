{
 "cells": [
  {
   "cell_type": "markdown",
   "metadata": {},
   "source": [
    "# Exercise 2\n",
    "What's the probability of rolling 3 six-sided dice and getting more than 7?\n",
    "\n",
    "_Alternative solution using R_"
   ]
  },
  {
   "cell_type": "markdown",
   "metadata": {},
   "source": [
    "## Books's solution "
   ]
  },
  {
   "cell_type": "code",
   "execution_count": 10,
   "metadata": {
    "vscode": {
     "languageId": "r"
    }
   },
   "outputs": [
    {
     "data": {
      "text/html": [
       "<table class=\"dataframe\">\n",
       "<caption>A data.frame: 6 × 3</caption>\n",
       "<thead>\n",
       "\t<tr><th></th><th scope=col>Var1</th><th scope=col>Var2</th><th scope=col>Var3</th></tr>\n",
       "\t<tr><th></th><th scope=col>&lt;int&gt;</th><th scope=col>&lt;int&gt;</th><th scope=col>&lt;int&gt;</th></tr>\n",
       "</thead>\n",
       "<tbody>\n",
       "\t<tr><th scope=row>1</th><td>1</td><td>1</td><td>1</td></tr>\n",
       "\t<tr><th scope=row>2</th><td>2</td><td>1</td><td>1</td></tr>\n",
       "\t<tr><th scope=row>3</th><td>3</td><td>1</td><td>1</td></tr>\n",
       "\t<tr><th scope=row>4</th><td>4</td><td>1</td><td>1</td></tr>\n",
       "\t<tr><th scope=row>5</th><td>5</td><td>1</td><td>1</td></tr>\n",
       "\t<tr><th scope=row>6</th><td>6</td><td>1</td><td>1</td></tr>\n",
       "</tbody>\n",
       "</table>\n"
      ],
      "text/latex": [
       "A data.frame: 6 × 3\n",
       "\\begin{tabular}{r|lll}\n",
       "  & Var1 & Var2 & Var3\\\\\n",
       "  & <int> & <int> & <int>\\\\\n",
       "\\hline\n",
       "\t1 & 1 & 1 & 1\\\\\n",
       "\t2 & 2 & 1 & 1\\\\\n",
       "\t3 & 3 & 1 & 1\\\\\n",
       "\t4 & 4 & 1 & 1\\\\\n",
       "\t5 & 5 & 1 & 1\\\\\n",
       "\t6 & 6 & 1 & 1\\\\\n",
       "\\end{tabular}\n"
      ],
      "text/markdown": [
       "\n",
       "A data.frame: 6 × 3\n",
       "\n",
       "| <!--/--> | Var1 &lt;int&gt; | Var2 &lt;int&gt; | Var3 &lt;int&gt; |\n",
       "|---|---|---|---|\n",
       "| 1 | 1 | 1 | 1 |\n",
       "| 2 | 2 | 1 | 1 |\n",
       "| 3 | 3 | 1 | 1 |\n",
       "| 4 | 4 | 1 | 1 |\n",
       "| 5 | 5 | 1 | 1 |\n",
       "| 6 | 6 | 1 | 1 |\n",
       "\n"
      ],
      "text/plain": [
       "  Var1 Var2 Var3\n",
       "1 1    1    1   \n",
       "2 2    1    1   \n",
       "3 3    1    1   \n",
       "4 4    1    1   \n",
       "5 5    1    1   \n",
       "6 6    1    1   "
      ]
     },
     "metadata": {},
     "output_type": "display_data"
    },
    {
     "data": {
      "text/html": [
       "<style>\n",
       ".list-inline {list-style: none; margin:0; padding: 0}\n",
       ".list-inline>li {display: inline-block}\n",
       ".list-inline>li:not(:last-child)::after {content: \"\\00b7\"; padding: 0 .5ex}\n",
       "</style>\n",
       "<ol class=list-inline><li>3</li><li>4</li><li>5</li><li>6</li><li>7</li><li>8</li></ol>\n"
      ],
      "text/latex": [
       "\\begin{enumerate*}\n",
       "\\item 3\n",
       "\\item 4\n",
       "\\item 5\n",
       "\\item 6\n",
       "\\item 7\n",
       "\\item 8\n",
       "\\end{enumerate*}\n"
      ],
      "text/markdown": [
       "1. 3\n",
       "2. 4\n",
       "3. 5\n",
       "4. 6\n",
       "5. 7\n",
       "6. 8\n",
       "\n",
       "\n"
      ],
      "text/plain": [
       "[1] 3 4 5 6 7 8"
      ]
     },
     "metadata": {},
     "output_type": "display_data"
    },
    {
     "data": {
      "text/html": [
       "<style>\n",
       ".list-inline {list-style: none; margin:0; padding: 0}\n",
       ".list-inline>li {display: inline-block}\n",
       ".list-inline>li:not(:last-child)::after {content: \"\\00b7\"; padding: 0 .5ex}\n",
       "</style>\n",
       "<ol class=list-inline><li>FALSE</li><li>FALSE</li><li>FALSE</li><li>FALSE</li><li>FALSE</li><li>TRUE</li></ol>\n"
      ],
      "text/latex": [
       "\\begin{enumerate*}\n",
       "\\item FALSE\n",
       "\\item FALSE\n",
       "\\item FALSE\n",
       "\\item FALSE\n",
       "\\item FALSE\n",
       "\\item TRUE\n",
       "\\end{enumerate*}\n"
      ],
      "text/markdown": [
       "1. FALSE\n",
       "2. FALSE\n",
       "3. FALSE\n",
       "4. FALSE\n",
       "5. FALSE\n",
       "6. TRUE\n",
       "\n",
       "\n"
      ],
      "text/plain": [
       "[1] FALSE FALSE FALSE FALSE FALSE  TRUE"
      ]
     },
     "metadata": {},
     "output_type": "display_data"
    },
    {
     "data": {
      "text/html": [
       "2"
      ],
      "text/latex": [
       "2"
      ],
      "text/markdown": [
       "2"
      ],
      "text/plain": [
       "[1] 2"
      ]
     },
     "metadata": {},
     "output_type": "display_data"
    },
    {
     "data": {
      "text/html": [
       "181"
      ],
      "text/latex": [
       "181"
      ],
      "text/markdown": [
       "181"
      ],
      "text/plain": [
       "[1] 181"
      ]
     },
     "metadata": {},
     "output_type": "display_data"
    }
   ],
   "source": [
    "head(expand.grid(c(1:6), c(1:6), c(1:6)))\n",
    "\n",
    "head(apply(expand.grid(c(1:6), c(1:6), c(1:6)), 1, sum))\n",
    "\n",
    "head(apply(expand.grid(c(1:6), c(1:6), c(1:6)), 1, sum) > 7)\n",
    "\n",
    "sum(TRUE, FALSE, FALSE, TRUE)\n",
    "\n",
    "sum(apply(expand.grid(c(1:6), c(1:6), c(1:6)), 1, sum) > 7)"
   ]
  }
 ],
 "metadata": {
  "kernelspec": {
   "display_name": "R",
   "language": "R",
   "name": "ir"
  },
  "language_info": {
   "codemirror_mode": "r",
   "file_extension": ".r",
   "mimetype": "text/x-r-source",
   "name": "R",
   "pygments_lexer": "r",
   "version": "4.2.0"
  },
  "orig_nbformat": 4,
  "vscode": {
   "interpreter": {
    "hash": "b0fa6594d8f4cbf19f97940f81e996739fb7646882a419484c72d19e05852a7e"
   }
  }
 },
 "nbformat": 4,
 "nbformat_minor": 2
}
