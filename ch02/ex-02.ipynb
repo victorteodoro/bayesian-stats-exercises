{
 "metadata": {
  "language_info": {
   "codemirror_mode": {
    "name": "ipython",
    "version": 3
   },
   "file_extension": ".py",
   "mimetype": "text/x-python",
   "name": "python",
   "nbconvert_exporter": "python",
   "pygments_lexer": "ipython3",
   "version": "3.8.5-final"
  },
  "orig_nbformat": 2,
  "kernelspec": {
   "name": "python385jvsc74a57bd0b4521bcfda93bcc98ae6ed32f504b5e2ee5889d56f563777bb9f597021a38782",
   "display_name": "Python 3.8.5 64-bit ('base': conda)"
  },
  "metadata": {
   "interpreter": {
    "hash": "b4521bcfda93bcc98ae6ed32f504b5e2ee5889d56f563777bb9f597021a38782"
   }
  }
 },
 "nbformat": 4,
 "nbformat_minor": 2,
 "cells": [
  {
   "source": [
    "# Exercise 2\n",
    "What's the probability of rolling 3 six-sided dice and getting more than 7?"
   ],
   "cell_type": "markdown",
   "metadata": {}
  },
  {
   "cell_type": "code",
   "execution_count": 23,
   "metadata": {},
   "outputs": [
    {
     "output_type": "stream",
     "name": "stdout",
     "text": [
      "0.8379629629629629\n0.8379629629629629\n"
     ]
    }
   ],
   "source": [
    "possibility_set = tuple((x, y, z) for x in range(1, 7) for y in range (1, 7) for z in range(1, 7))\n",
    "\n",
    "# for index, result in enumerate(possibility_set):\n",
    "#     print(str(index) + \":\", result)\n",
    "\n",
    "sums_set = tuple(sum(result) for result in possibility_set if sum(result) > 7)\n",
    "print(len(sums_set) / len(possibility_set))"
   ]
  }
 ]
}