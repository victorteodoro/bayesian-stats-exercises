{
 "cells": [
  {
   "cell_type": "markdown",
   "metadata": {},
   "source": [
    "# Exercise 2\n",
    "What's the probability of rolling 3 six-sided dice and getting more than 7?"
   ]
  },
  {
   "cell_type": "code",
   "execution_count": 7,
   "metadata": {},
   "outputs": [
    {
     "name": "stdout",
     "output_type": "stream",
     "text": [
      "The right answear is 181 / 216.\n",
      "The answear I arrived at is: 181 / 216\n"
     ]
    }
   ],
   "source": [
    "possibility_set = tuple((x, y, z) for x in range(1, 7) for y in range (1, 7) for z in range(1, 7))\n",
    "\n",
    "# for index, result in enumerate(possibility_set):\n",
    "#     print(str(index) + \":\", result)\n",
    "\n",
    "sums_set = tuple(sum(result) for result in possibility_set if sum(result) > 7)\n",
    "print('The right answear is 181 / 216.')\n",
    "print('The answear I arrived at is: {gt_seven} / {total_possibilities}'.format(gt_seven = len(sums_set),  total_possibilities = len(possibility_set)))"
   ]
  }
 ],
 "metadata": {
  "kernelspec": {
   "display_name": "Python 3.10.4 ('pydata-book')",
   "language": "python",
   "name": "python3"
  },
  "language_info": {
   "codemirror_mode": {
    "name": "ipython",
    "version": 3
   },
   "file_extension": ".py",
   "mimetype": "text/x-python",
   "name": "python",
   "nbconvert_exporter": "python",
   "pygments_lexer": "ipython3",
   "version": "3.10.4"
  },
  "metadata": {
   "interpreter": {
    "hash": "b4521bcfda93bcc98ae6ed32f504b5e2ee5889d56f563777bb9f597021a38782"
   }
  },
  "orig_nbformat": 2,
  "vscode": {
   "interpreter": {
    "hash": "0dc182bbb382f8ca6905e6981341a92597bbf131c53202925d48effaca4db4e1"
   }
  }
 },
 "nbformat": 4,
 "nbformat_minor": 2
}
